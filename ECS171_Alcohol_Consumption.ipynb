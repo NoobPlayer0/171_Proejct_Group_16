{
  "cells": [
    {
      "cell_type": "code",
      "execution_count": null,
      "metadata": {
        "colab": {
          "base_uri": "https://localhost:8080/"
        },
        "id": "bai64cnnNj6a",
        "outputId": "6ca544b8-a422-4176-bc2f-b195a62221dc"
      },
      "outputs": [
        {
          "output_type": "stream",
          "name": "stdout",
          "text": [
            "school        False\n",
            "sex           False\n",
            "age           False\n",
            "address       False\n",
            "famsize       False\n",
            "Pstatus       False\n",
            "Medu          False\n",
            "Fedu          False\n",
            "Mjob          False\n",
            "Fjob          False\n",
            "reason        False\n",
            "guardian      False\n",
            "traveltime    False\n",
            "studytime     False\n",
            "failures      False\n",
            "schoolsup     False\n",
            "famsup        False\n",
            "paid          False\n",
            "activities    False\n",
            "nursery       False\n",
            "higher        False\n",
            "internet      False\n",
            "romantic      False\n",
            "famrel        False\n",
            "freetime      False\n",
            "goout         False\n",
            "Dalc          False\n",
            "Walc          False\n",
            "health        False\n",
            "absences      False\n",
            "G1            False\n",
            "G2            False\n",
            "G3            False\n",
            "dtype: bool\n"
          ]
        }
      ],
      "source": [
        "from sklearn.model_selection import train_test_split\n",
        "from sklearn.linear_model import Ridge, Lasso\n",
        "from sklearn.model_selection import cross_val_score\n",
        "from sklearn.model_selection import GridSearchCV\n",
        "from sklearn.tree import DecisionTreeRegressor\n",
        "from sklearn.linear_model import LinearRegression\n",
        "from sklearn.ensemble import RandomForestClassifier\n",
        "from imblearn.over_sampling import RandomOverSampler, SMOTE\n",
        "# tree\n",
        "from sklearn.model_selection import train_test_split\n",
        "from sklearn.linear_model import LogisticRegression\n",
        "from sklearn.metrics import confusion_matrix\n",
        "from sklearn.metrics import classification_report\n",
        "from sklearn.tree import DecisionTreeClassifier\n",
        "from sklearn import tree\n",
        "#\n",
        "# SVM\n",
        "from sklearn.preprocessing import StandardScaler\n",
        "from sklearn.svm import SVC\n",
        "from sklearn.multiclass import OneVsRestClassifier\n",
        "#\n",
        "import matplotlib.pylab as plt\n",
        "import numpy as np\n",
        "import seaborn as sns\n",
        "import pandas as pd\n",
        "from google.colab import files\n",
        "\n",
        "\n",
        "\n",
        "# Read in two data sets\n",
        "df1=pd.read_csv(\"student-mat.csv\")\n",
        "df2=pd.read_csv(\"student-por.csv\")\n",
        "\n",
        "# Merge the two dataframes\n",
        "frames = [df1, df2]\n",
        "df3 = pd.concat(frames)\n",
        "print(df3.isna().any())\n",
        "# No empty value exist"
      ]
    },
    {
      "cell_type": "code",
      "execution_count": null,
      "metadata": {
        "colab": {
          "base_uri": "https://localhost:8080/"
        },
        "id": "sXVfJTj5NPMt",
        "outputId": "be476757-5db7-4a77-9c9a-a3643d5f5467"
      },
      "outputs": [
        {
          "output_type": "stream",
          "name": "stdout",
          "text": [
            "Looking in indexes: https://pypi.org/simple, https://us-python.pkg.dev/colab-wheels/public/simple/\n",
            "Requirement already satisfied: imbalanced-learn in /usr/local/lib/python3.7/dist-packages (0.8.1)\n",
            "Collecting delayed\n",
            "  Downloading delayed-0.11.0b1-py2.py3-none-any.whl (19 kB)\n",
            "Requirement already satisfied: joblib>=0.11 in /usr/local/lib/python3.7/dist-packages (from imbalanced-learn) (1.1.0)\n",
            "Requirement already satisfied: scipy>=0.19.1 in /usr/local/lib/python3.7/dist-packages (from imbalanced-learn) (1.4.1)\n",
            "Requirement already satisfied: numpy>=1.13.3 in /usr/local/lib/python3.7/dist-packages (from imbalanced-learn) (1.21.6)\n",
            "Requirement already satisfied: scikit-learn>=0.24 in /usr/local/lib/python3.7/dist-packages (from imbalanced-learn) (1.0.2)\n",
            "Requirement already satisfied: threadpoolctl>=2.0.0 in /usr/local/lib/python3.7/dist-packages (from scikit-learn>=0.24->imbalanced-learn) (3.1.0)\n",
            "Collecting hiredis\n",
            "  Downloading hiredis-2.0.0-cp37-cp37m-manylinux2010_x86_64.whl (85 kB)\n",
            "\u001b[K     |████████████████████████████████| 85 kB 2.6 MB/s \n",
            "\u001b[?25hCollecting redis\n",
            "  Downloading redis-4.3.3-py3-none-any.whl (244 kB)\n",
            "\u001b[K     |████████████████████████████████| 244 kB 32.3 MB/s \n",
            "\u001b[?25hCollecting deprecated>=1.2.3\n",
            "  Downloading Deprecated-1.2.13-py2.py3-none-any.whl (9.6 kB)\n",
            "Requirement already satisfied: packaging>=20.4 in /usr/local/lib/python3.7/dist-packages (from redis->delayed) (21.3)\n",
            "Collecting async-timeout>=4.0.2\n",
            "  Downloading async_timeout-4.0.2-py3-none-any.whl (5.8 kB)\n",
            "Requirement already satisfied: typing-extensions in /usr/local/lib/python3.7/dist-packages (from redis->delayed) (4.2.0)\n",
            "Requirement already satisfied: importlib-metadata>=1.0 in /usr/local/lib/python3.7/dist-packages (from redis->delayed) (4.11.4)\n",
            "Requirement already satisfied: wrapt<2,>=1.10 in /usr/local/lib/python3.7/dist-packages (from deprecated>=1.2.3->redis->delayed) (1.14.1)\n",
            "Requirement already satisfied: zipp>=0.5 in /usr/local/lib/python3.7/dist-packages (from importlib-metadata>=1.0->redis->delayed) (3.8.0)\n",
            "Requirement already satisfied: pyparsing!=3.0.5,>=2.0.2 in /usr/local/lib/python3.7/dist-packages (from packaging>=20.4->redis->delayed) (3.0.9)\n",
            "Installing collected packages: deprecated, async-timeout, redis, hiredis, delayed\n",
            "Successfully installed async-timeout-4.0.2 delayed-0.11.0b1 deprecated-1.2.13 hiredis-2.0.0 redis-4.3.3\n"
          ]
        }
      ],
      "source": [
        "import sys\n",
        "!{sys.executable} -m pip install imbalanced-learn delayed"
      ]
    },
    {
      "cell_type": "code",
      "execution_count": null,
      "metadata": {
        "colab": {
          "base_uri": "https://localhost:8080/",
          "height": 528
        },
        "id": "njcc4kYtR3vP",
        "outputId": "bf8f348e-26c9-420b-cab4-6e75439d13c2"
      },
      "outputs": [
        {
          "output_type": "display_data",
          "data": {
            "text/plain": [
              "     school  sex  age  address  famsize  Pstatus  Medu  Fedu  Mjob  Fjob  ...  \\\n",
              "0         0    0    3        0        1        1     4     4     3     0  ...   \n",
              "1         0    0    2        0        1        0     1     1     3     4  ...   \n",
              "2         0    0    0        0        0        0     1     1     3     4  ...   \n",
              "3         0    0    0        0        1        0     4     2     1     2  ...   \n",
              "4         0    0    1        0        1        0     3     3     4     4  ...   \n",
              "..      ...  ...  ...      ...      ...      ...   ...   ...   ...   ...  ...   \n",
              "644       1    0    4        1        1        0     2     3     2     4  ...   \n",
              "645       1    0    3        0        0        0     3     1     0     2  ...   \n",
              "646       1    0    3        0        1        0     1     1     4     4  ...   \n",
              "647       1    1    2        0        0        0     3     1     2     2  ...   \n",
              "648       1    1    3        1        0        0     3     2     2     4  ...   \n",
              "\n",
              "     famrel  freetime  goout  Dalc  Walc  health  absences  G1  G2  G3  \n",
              "0         4         3      4     1     1       3         6   5   6   6  \n",
              "1         5         3      3     1     1       3         4   5   5   6  \n",
              "2         4         3      2     2     3       3        10   7   8  10  \n",
              "3         3         2      2     1     1       5         2  15  14  15  \n",
              "4         4         3      2     1     2       5         4   6  10  10  \n",
              "..      ...       ...    ...   ...   ...     ...       ...  ..  ..  ..  \n",
              "644       5         4      2     1     2       5         4  10  11  10  \n",
              "645       4         3      4     1     1       1         4  15  15  16  \n",
              "646       1         1      1     1     1       5         6  11  12   9  \n",
              "647       2         4      5     3     4       2         6  10  10  10  \n",
              "648       4         4      1     3     4       5         4  10  11  11  \n",
              "\n",
              "[1044 rows x 33 columns]"
            ],
            "text/html": [
              "\n",
              "  <div id=\"df-030ae556-dd6c-4f96-810d-83a1b9fcd387\">\n",
              "    <div class=\"colab-df-container\">\n",
              "      <div>\n",
              "<style scoped>\n",
              "    .dataframe tbody tr th:only-of-type {\n",
              "        vertical-align: middle;\n",
              "    }\n",
              "\n",
              "    .dataframe tbody tr th {\n",
              "        vertical-align: top;\n",
              "    }\n",
              "\n",
              "    .dataframe thead th {\n",
              "        text-align: right;\n",
              "    }\n",
              "</style>\n",
              "<table border=\"1\" class=\"dataframe\">\n",
              "  <thead>\n",
              "    <tr style=\"text-align: right;\">\n",
              "      <th></th>\n",
              "      <th>school</th>\n",
              "      <th>sex</th>\n",
              "      <th>age</th>\n",
              "      <th>address</th>\n",
              "      <th>famsize</th>\n",
              "      <th>Pstatus</th>\n",
              "      <th>Medu</th>\n",
              "      <th>Fedu</th>\n",
              "      <th>Mjob</th>\n",
              "      <th>Fjob</th>\n",
              "      <th>...</th>\n",
              "      <th>famrel</th>\n",
              "      <th>freetime</th>\n",
              "      <th>goout</th>\n",
              "      <th>Dalc</th>\n",
              "      <th>Walc</th>\n",
              "      <th>health</th>\n",
              "      <th>absences</th>\n",
              "      <th>G1</th>\n",
              "      <th>G2</th>\n",
              "      <th>G3</th>\n",
              "    </tr>\n",
              "  </thead>\n",
              "  <tbody>\n",
              "    <tr>\n",
              "      <th>0</th>\n",
              "      <td>0</td>\n",
              "      <td>0</td>\n",
              "      <td>3</td>\n",
              "      <td>0</td>\n",
              "      <td>1</td>\n",
              "      <td>1</td>\n",
              "      <td>4</td>\n",
              "      <td>4</td>\n",
              "      <td>3</td>\n",
              "      <td>0</td>\n",
              "      <td>...</td>\n",
              "      <td>4</td>\n",
              "      <td>3</td>\n",
              "      <td>4</td>\n",
              "      <td>1</td>\n",
              "      <td>1</td>\n",
              "      <td>3</td>\n",
              "      <td>6</td>\n",
              "      <td>5</td>\n",
              "      <td>6</td>\n",
              "      <td>6</td>\n",
              "    </tr>\n",
              "    <tr>\n",
              "      <th>1</th>\n",
              "      <td>0</td>\n",
              "      <td>0</td>\n",
              "      <td>2</td>\n",
              "      <td>0</td>\n",
              "      <td>1</td>\n",
              "      <td>0</td>\n",
              "      <td>1</td>\n",
              "      <td>1</td>\n",
              "      <td>3</td>\n",
              "      <td>4</td>\n",
              "      <td>...</td>\n",
              "      <td>5</td>\n",
              "      <td>3</td>\n",
              "      <td>3</td>\n",
              "      <td>1</td>\n",
              "      <td>1</td>\n",
              "      <td>3</td>\n",
              "      <td>4</td>\n",
              "      <td>5</td>\n",
              "      <td>5</td>\n",
              "      <td>6</td>\n",
              "    </tr>\n",
              "    <tr>\n",
              "      <th>2</th>\n",
              "      <td>0</td>\n",
              "      <td>0</td>\n",
              "      <td>0</td>\n",
              "      <td>0</td>\n",
              "      <td>0</td>\n",
              "      <td>0</td>\n",
              "      <td>1</td>\n",
              "      <td>1</td>\n",
              "      <td>3</td>\n",
              "      <td>4</td>\n",
              "      <td>...</td>\n",
              "      <td>4</td>\n",
              "      <td>3</td>\n",
              "      <td>2</td>\n",
              "      <td>2</td>\n",
              "      <td>3</td>\n",
              "      <td>3</td>\n",
              "      <td>10</td>\n",
              "      <td>7</td>\n",
              "      <td>8</td>\n",
              "      <td>10</td>\n",
              "    </tr>\n",
              "    <tr>\n",
              "      <th>3</th>\n",
              "      <td>0</td>\n",
              "      <td>0</td>\n",
              "      <td>0</td>\n",
              "      <td>0</td>\n",
              "      <td>1</td>\n",
              "      <td>0</td>\n",
              "      <td>4</td>\n",
              "      <td>2</td>\n",
              "      <td>1</td>\n",
              "      <td>2</td>\n",
              "      <td>...</td>\n",
              "      <td>3</td>\n",
              "      <td>2</td>\n",
              "      <td>2</td>\n",
              "      <td>1</td>\n",
              "      <td>1</td>\n",
              "      <td>5</td>\n",
              "      <td>2</td>\n",
              "      <td>15</td>\n",
              "      <td>14</td>\n",
              "      <td>15</td>\n",
              "    </tr>\n",
              "    <tr>\n",
              "      <th>4</th>\n",
              "      <td>0</td>\n",
              "      <td>0</td>\n",
              "      <td>1</td>\n",
              "      <td>0</td>\n",
              "      <td>1</td>\n",
              "      <td>0</td>\n",
              "      <td>3</td>\n",
              "      <td>3</td>\n",
              "      <td>4</td>\n",
              "      <td>4</td>\n",
              "      <td>...</td>\n",
              "      <td>4</td>\n",
              "      <td>3</td>\n",
              "      <td>2</td>\n",
              "      <td>1</td>\n",
              "      <td>2</td>\n",
              "      <td>5</td>\n",
              "      <td>4</td>\n",
              "      <td>6</td>\n",
              "      <td>10</td>\n",
              "      <td>10</td>\n",
              "    </tr>\n",
              "    <tr>\n",
              "      <th>...</th>\n",
              "      <td>...</td>\n",
              "      <td>...</td>\n",
              "      <td>...</td>\n",
              "      <td>...</td>\n",
              "      <td>...</td>\n",
              "      <td>...</td>\n",
              "      <td>...</td>\n",
              "      <td>...</td>\n",
              "      <td>...</td>\n",
              "      <td>...</td>\n",
              "      <td>...</td>\n",
              "      <td>...</td>\n",
              "      <td>...</td>\n",
              "      <td>...</td>\n",
              "      <td>...</td>\n",
              "      <td>...</td>\n",
              "      <td>...</td>\n",
              "      <td>...</td>\n",
              "      <td>...</td>\n",
              "      <td>...</td>\n",
              "      <td>...</td>\n",
              "    </tr>\n",
              "    <tr>\n",
              "      <th>644</th>\n",
              "      <td>1</td>\n",
              "      <td>0</td>\n",
              "      <td>4</td>\n",
              "      <td>1</td>\n",
              "      <td>1</td>\n",
              "      <td>0</td>\n",
              "      <td>2</td>\n",
              "      <td>3</td>\n",
              "      <td>2</td>\n",
              "      <td>4</td>\n",
              "      <td>...</td>\n",
              "      <td>5</td>\n",
              "      <td>4</td>\n",
              "      <td>2</td>\n",
              "      <td>1</td>\n",
              "      <td>2</td>\n",
              "      <td>5</td>\n",
              "      <td>4</td>\n",
              "      <td>10</td>\n",
              "      <td>11</td>\n",
              "      <td>10</td>\n",
              "    </tr>\n",
              "    <tr>\n",
              "      <th>645</th>\n",
              "      <td>1</td>\n",
              "      <td>0</td>\n",
              "      <td>3</td>\n",
              "      <td>0</td>\n",
              "      <td>0</td>\n",
              "      <td>0</td>\n",
              "      <td>3</td>\n",
              "      <td>1</td>\n",
              "      <td>0</td>\n",
              "      <td>2</td>\n",
              "      <td>...</td>\n",
              "      <td>4</td>\n",
              "      <td>3</td>\n",
              "      <td>4</td>\n",
              "      <td>1</td>\n",
              "      <td>1</td>\n",
              "      <td>1</td>\n",
              "      <td>4</td>\n",
              "      <td>15</td>\n",
              "      <td>15</td>\n",
              "      <td>16</td>\n",
              "    </tr>\n",
              "    <tr>\n",
              "      <th>646</th>\n",
              "      <td>1</td>\n",
              "      <td>0</td>\n",
              "      <td>3</td>\n",
              "      <td>0</td>\n",
              "      <td>1</td>\n",
              "      <td>0</td>\n",
              "      <td>1</td>\n",
              "      <td>1</td>\n",
              "      <td>4</td>\n",
              "      <td>4</td>\n",
              "      <td>...</td>\n",
              "      <td>1</td>\n",
              "      <td>1</td>\n",
              "      <td>1</td>\n",
              "      <td>1</td>\n",
              "      <td>1</td>\n",
              "      <td>5</td>\n",
              "      <td>6</td>\n",
              "      <td>11</td>\n",
              "      <td>12</td>\n",
              "      <td>9</td>\n",
              "    </tr>\n",
              "    <tr>\n",
              "      <th>647</th>\n",
              "      <td>1</td>\n",
              "      <td>1</td>\n",
              "      <td>2</td>\n",
              "      <td>0</td>\n",
              "      <td>0</td>\n",
              "      <td>0</td>\n",
              "      <td>3</td>\n",
              "      <td>1</td>\n",
              "      <td>2</td>\n",
              "      <td>2</td>\n",
              "      <td>...</td>\n",
              "      <td>2</td>\n",
              "      <td>4</td>\n",
              "      <td>5</td>\n",
              "      <td>3</td>\n",
              "      <td>4</td>\n",
              "      <td>2</td>\n",
              "      <td>6</td>\n",
              "      <td>10</td>\n",
              "      <td>10</td>\n",
              "      <td>10</td>\n",
              "    </tr>\n",
              "    <tr>\n",
              "      <th>648</th>\n",
              "      <td>1</td>\n",
              "      <td>1</td>\n",
              "      <td>3</td>\n",
              "      <td>1</td>\n",
              "      <td>0</td>\n",
              "      <td>0</td>\n",
              "      <td>3</td>\n",
              "      <td>2</td>\n",
              "      <td>2</td>\n",
              "      <td>4</td>\n",
              "      <td>...</td>\n",
              "      <td>4</td>\n",
              "      <td>4</td>\n",
              "      <td>1</td>\n",
              "      <td>3</td>\n",
              "      <td>4</td>\n",
              "      <td>5</td>\n",
              "      <td>4</td>\n",
              "      <td>10</td>\n",
              "      <td>11</td>\n",
              "      <td>11</td>\n",
              "    </tr>\n",
              "  </tbody>\n",
              "</table>\n",
              "<p>1044 rows × 33 columns</p>\n",
              "</div>\n",
              "      <button class=\"colab-df-convert\" onclick=\"convertToInteractive('df-030ae556-dd6c-4f96-810d-83a1b9fcd387')\"\n",
              "              title=\"Convert this dataframe to an interactive table.\"\n",
              "              style=\"display:none;\">\n",
              "        \n",
              "  <svg xmlns=\"http://www.w3.org/2000/svg\" height=\"24px\"viewBox=\"0 0 24 24\"\n",
              "       width=\"24px\">\n",
              "    <path d=\"M0 0h24v24H0V0z\" fill=\"none\"/>\n",
              "    <path d=\"M18.56 5.44l.94 2.06.94-2.06 2.06-.94-2.06-.94-.94-2.06-.94 2.06-2.06.94zm-11 1L8.5 8.5l.94-2.06 2.06-.94-2.06-.94L8.5 2.5l-.94 2.06-2.06.94zm10 10l.94 2.06.94-2.06 2.06-.94-2.06-.94-.94-2.06-.94 2.06-2.06.94z\"/><path d=\"M17.41 7.96l-1.37-1.37c-.4-.4-.92-.59-1.43-.59-.52 0-1.04.2-1.43.59L10.3 9.45l-7.72 7.72c-.78.78-.78 2.05 0 2.83L4 21.41c.39.39.9.59 1.41.59.51 0 1.02-.2 1.41-.59l7.78-7.78 2.81-2.81c.8-.78.8-2.07 0-2.86zM5.41 20L4 18.59l7.72-7.72 1.47 1.35L5.41 20z\"/>\n",
              "  </svg>\n",
              "      </button>\n",
              "      \n",
              "  <style>\n",
              "    .colab-df-container {\n",
              "      display:flex;\n",
              "      flex-wrap:wrap;\n",
              "      gap: 12px;\n",
              "    }\n",
              "\n",
              "    .colab-df-convert {\n",
              "      background-color: #E8F0FE;\n",
              "      border: none;\n",
              "      border-radius: 50%;\n",
              "      cursor: pointer;\n",
              "      display: none;\n",
              "      fill: #1967D2;\n",
              "      height: 32px;\n",
              "      padding: 0 0 0 0;\n",
              "      width: 32px;\n",
              "    }\n",
              "\n",
              "    .colab-df-convert:hover {\n",
              "      background-color: #E2EBFA;\n",
              "      box-shadow: 0px 1px 2px rgba(60, 64, 67, 0.3), 0px 1px 3px 1px rgba(60, 64, 67, 0.15);\n",
              "      fill: #174EA6;\n",
              "    }\n",
              "\n",
              "    [theme=dark] .colab-df-convert {\n",
              "      background-color: #3B4455;\n",
              "      fill: #D2E3FC;\n",
              "    }\n",
              "\n",
              "    [theme=dark] .colab-df-convert:hover {\n",
              "      background-color: #434B5C;\n",
              "      box-shadow: 0px 1px 3px 1px rgba(0, 0, 0, 0.15);\n",
              "      filter: drop-shadow(0px 1px 2px rgba(0, 0, 0, 0.3));\n",
              "      fill: #FFFFFF;\n",
              "    }\n",
              "  </style>\n",
              "\n",
              "      <script>\n",
              "        const buttonEl =\n",
              "          document.querySelector('#df-030ae556-dd6c-4f96-810d-83a1b9fcd387 button.colab-df-convert');\n",
              "        buttonEl.style.display =\n",
              "          google.colab.kernel.accessAllowed ? 'block' : 'none';\n",
              "\n",
              "        async function convertToInteractive(key) {\n",
              "          const element = document.querySelector('#df-030ae556-dd6c-4f96-810d-83a1b9fcd387');\n",
              "          const dataTable =\n",
              "            await google.colab.kernel.invokeFunction('convertToInteractive',\n",
              "                                                     [key], {});\n",
              "          if (!dataTable) return;\n",
              "\n",
              "          const docLinkHtml = 'Like what you see? Visit the ' +\n",
              "            '<a target=\"_blank\" href=https://colab.research.google.com/notebooks/data_table.ipynb>data table notebook</a>'\n",
              "            + ' to learn more about interactive tables.';\n",
              "          element.innerHTML = '';\n",
              "          dataTable['output_type'] = 'display_data';\n",
              "          await google.colab.output.renderOutput(dataTable, element);\n",
              "          const docLink = document.createElement('div');\n",
              "          docLink.innerHTML = docLinkHtml;\n",
              "          element.appendChild(docLink);\n",
              "        }\n",
              "      </script>\n",
              "    </div>\n",
              "  </div>\n",
              "  "
            ]
          },
          "metadata": {}
        },
        {
          "output_type": "stream",
          "name": "stdout",
          "text": [
            "1    727\n",
            "2    196\n",
            "3     69\n",
            "5     26\n",
            "4     26\n",
            "Name: Dalc, dtype: int64\n"
          ]
        }
      ],
      "source": [
        "# Data Encoding\n",
        "#df3 = df3.drop(columns=['G1', 'G2', 'G3'])\n",
        "mapping = {'school': {'GP':0, 'MS':1},\n",
        "           'sex': {'F':0, 'M':1},\n",
        "          'address': {'U':0, 'R':1},\n",
        "           'famsize': {'LE3':0, 'GT3':1},\n",
        "           'Pstatus': {'T':0, 'A':1},\n",
        "           'schoolsup':{'no':0,'yes':1},\n",
        "           'famsup':{'no':0,'yes':1},\n",
        "           'paid':{'no':0,'yes':1},\n",
        "           'activities':{'no':0,'yes':1},\n",
        "           'nursery': {'no':0, 'yes':1},\n",
        "           'internet':{'no':0,'yes':1},\n",
        "           'higher':{'no':0, 'yes':1},\n",
        "           'romantic':{'no':0,'yes':1}}\n",
        "\n",
        "for col in list(mapping.keys()):\n",
        "    df3[col] = df3[col].map(mapping[col])\n",
        "\n",
        "# display(df3)\n",
        "\n",
        "\n",
        "df3.Mjob.replace(['teacher', 'health', 'services', 'at_home', 'other'], [0, 1, 2, 3, 4], inplace= True)\n",
        "df3.Fjob.replace(['teacher', 'health', 'services', 'at_home', 'other'], [0, 1, 2, 3, 4], inplace= True)\n",
        "df3.reason.replace(['course', 'home', 'reputation', 'other'], [0, 1, 2, 3], inplace= True)\n",
        "df3.guardian.replace(['mother', 'father', 'other'], [0, 1, 2], inplace= True)\n",
        "df3.age.replace([15, 16, 17, 18, 19, 20, 21, 22], [0, 1, 2, 3, 4, 5, 6, 7], inplace= True)\n",
        "\n",
        "\n",
        "display(df3)\n",
        "print(df3['Dalc'].value_counts())"
      ]
    },
    {
      "cell_type": "markdown",
      "metadata": {
        "id": "VS76V74a7v1-"
      },
      "source": [
        "# **Dataset Analysis**"
      ]
    },
    {
      "cell_type": "code",
      "execution_count": null,
      "metadata": {
        "colab": {
          "base_uri": "https://localhost:8080/",
          "height": 378
        },
        "id": "49QfnvJ37f7e",
        "outputId": "4b32023d-ca14-47f1-d8ba-7458c5809b7e"
      },
      "outputs": [
        {
          "output_type": "display_data",
          "data": {
            "text/plain": [
              "<IPython.core.display.Javascript object>"
            ],
            "application/javascript": [
              "\n",
              "    async function download(id, filename, size) {\n",
              "      if (!google.colab.kernel.accessAllowed) {\n",
              "        return;\n",
              "      }\n",
              "      const div = document.createElement('div');\n",
              "      const label = document.createElement('label');\n",
              "      label.textContent = `Downloading \"${filename}\": `;\n",
              "      div.appendChild(label);\n",
              "      const progress = document.createElement('progress');\n",
              "      progress.max = size;\n",
              "      div.appendChild(progress);\n",
              "      document.body.appendChild(div);\n",
              "\n",
              "      const buffers = [];\n",
              "      let downloaded = 0;\n",
              "\n",
              "      const channel = await google.colab.kernel.comms.open(id);\n",
              "      // Send a message to notify the kernel that we're ready.\n",
              "      channel.send({})\n",
              "\n",
              "      for await (const message of channel.messages) {\n",
              "        // Send a message to notify the kernel that we're ready.\n",
              "        channel.send({})\n",
              "        if (message.buffers) {\n",
              "          for (const buffer of message.buffers) {\n",
              "            buffers.push(buffer);\n",
              "            downloaded += buffer.byteLength;\n",
              "            progress.value = downloaded;\n",
              "          }\n",
              "        }\n",
              "      }\n",
              "      const blob = new Blob(buffers, {type: 'application/binary'});\n",
              "      const a = document.createElement('a');\n",
              "      a.href = window.URL.createObjectURL(blob);\n",
              "      a.download = filename;\n",
              "      div.appendChild(a);\n",
              "      a.click();\n",
              "      div.remove();\n",
              "    }\n",
              "  "
            ]
          },
          "metadata": {}
        },
        {
          "output_type": "display_data",
          "data": {
            "text/plain": [
              "<IPython.core.display.Javascript object>"
            ],
            "application/javascript": [
              "download(\"download_af73ff9d-50fa-4c40-9017-fd575a9ced07\", \"gradeCor.png\", 13086)"
            ]
          },
          "metadata": {}
        },
        {
          "output_type": "display_data",
          "data": {
            "text/plain": [
              "<Figure size 720x432 with 2 Axes>"
            ],
            "image/png": "[encoded data removed]"
          },
          "metadata": {
            "needs_background": "light"
          }
        }
      ],
      "source": [
        "# Grade correlation\n",
        "df_cor = df3[['G1', 'G2', 'G3']]\n",
        "plt.figure(figsize=(10, 6))\n",
        "grade_cor = sns.heatmap(df_cor.corr(), annot=True, fmt='.2g', vmin=-1, vmax=1, center=0, cmap= 'coolwarm').get_figure()\n",
        "\n",
        "grade_cor.savefig('gradeCor.png')\n",
        "files.download('gradeCor.png')"
      ]
    },
    {
      "cell_type": "markdown",
      "metadata": {
        "id": "uy2X3z5T7_Ma"
      },
      "source": [
        "# **Feature Selection**"
      ]
    },
    {
      "cell_type": "code",
      "execution_count": null,
      "metadata": {
        "id": "m9ZtgbwF__oN",
        "colab": {
          "base_uri": "https://localhost:8080/",
          "height": 1000
        },
        "outputId": "3e15071a-247d-4a29-8b28-30d175749352"
      },
      "outputs": [
        {
          "output_type": "stream",
          "name": "stdout",
          "text": [
            "     school  sex  age  address  famsize  Pstatus  Medu  Fedu  Mjob  Fjob  ...  \\\n",
            "0         0    0    3        0        1        1     4     4     3     0  ...   \n",
            "1         0    0    2        0        1        0     1     1     3     4  ...   \n",
            "2         0    0    0        0        0        0     1     1     3     4  ...   \n",
            "3         0    0    0        0        1        0     4     2     1     2  ...   \n",
            "4         0    0    1        0        1        0     3     3     4     4  ...   \n",
            "..      ...  ...  ...      ...      ...      ...   ...   ...   ...   ...  ...   \n",
            "644       1    0    4        1        1        0     2     3     2     4  ...   \n",
            "645       1    0    3        0        0        0     3     1     0     2  ...   \n",
            "646       1    0    3        0        1        0     1     1     4     4  ...   \n",
            "647       1    1    2        0        0        0     3     1     2     2  ...   \n",
            "648       1    1    3        1        0        0     3     2     2     4  ...   \n",
            "\n",
            "     higher  internet  romantic  famrel  freetime  goout  health  absences  \\\n",
            "0         1         0         0       4         3      4       3         6   \n",
            "1         1         1         0       5         3      3       3         4   \n",
            "2         1         1         0       4         3      2       3        10   \n",
            "3         1         1         1       3         2      2       5         2   \n",
            "4         1         0         0       4         3      2       5         4   \n",
            "..      ...       ...       ...     ...       ...    ...     ...       ...   \n",
            "644       1         1         0       5         4      2       5         4   \n",
            "645       1         1         0       4         3      4       1         4   \n",
            "646       1         0         0       1         1      1       5         6   \n",
            "647       1         1         0       2         4      5       2         6   \n",
            "648       1         1         0       4         4      1       5         4   \n",
            "\n",
            "     G3  Alc  \n",
            "0     6    2  \n",
            "1     6    2  \n",
            "2    10    5  \n",
            "3    15    2  \n",
            "4    10    3  \n",
            "..   ..  ...  \n",
            "644  10    3  \n",
            "645  16    2  \n",
            "646   9    2  \n",
            "647  10    7  \n",
            "648  11    7  \n",
            "\n",
            "[1044 rows x 30 columns]\n",
            "The Accuracy is: 0.88 (+/- 0.04)\n",
            "[17  5 15  0 14  3 22 21 11 18 16 12 19 20 10 24  4  6  7  9 23 13 26  2\n",
            " 28  8 25  1 27]\n"
          ]
        },
        {
          "output_type": "execute_result",
          "data": {
            "text/plain": [
              "Text(0.5, 0, 'Relative Importance')"
            ]
          },
          "metadata": {},
          "execution_count": 5
        },
        {
          "output_type": "display_data",
          "data": {
            "text/plain": [
              "<Figure size 1440x1440 with 1 Axes>"
            ],
            "image/png": "[encoded data removed]"
          },
          "metadata": {
            "needs_background": "light"
          }
        }
      ],
      "source": [
        "# Try combining Dalc and Walc\n",
        "df3['Alc'] = df3['Dalc'] + df3['Walc']\n",
        "\n",
        "df_combine = df3.drop(columns=['Dalc', 'Walc', 'G1', 'G2'], axis=1)\n",
        "\n",
        "print(df_combine)\n",
        "\n",
        "# Oversampling using SMOTE\n",
        "X_alc_ovs, y_alc_ovs = SMOTE().fit_resample(df_combine.drop(['Alc'], axis=1), df_combine['Alc'])\n",
        "\n",
        "# Split the data 80:20 and train\n",
        "X_train, X_test, y_train, y_test = train_test_split(X_alc_ovs, y_alc_ovs, test_size=0.2)\n",
        "Alc_Ranforest = RandomForestClassifier(criterion='entropy', n_estimators=200, max_depth=9)\n",
        "Alc_Ranforest.fit(X_train, y_train)\n",
        "\n",
        "#print out the accuracy\n",
        "scores = cross_val_score(Alc_Ranforest, X_alc_ovs, y_alc_ovs, cv=5)\n",
        "print(\"The Accuracy is: %0.2f (+/- %0.2f)\" % (scores.mean(), scores.std() * 2))\n",
        "\n",
        "Alc_Ranforest.feature_importances_\n",
        "\n",
        "features_table = pd.DataFrame(np.hstack((np.array(list(X_alc_ovs.columns)).reshape(29,1), Alc_Ranforest.feature_importances_.reshape(29,1))))\n",
        "\n",
        "features_names = features_table[0]\n",
        "importances = Alc_Ranforest.feature_importances_\n",
        "ind = np.argsort(importances)\n",
        "print(ind)\n",
        "\n",
        "# Plot\n",
        "plt.figure(figsize=(20,20))\n",
        "plt.title('Feature Importances for Alc')\n",
        "plt.barh(range(len(ind)), importances[ind], color='g', align='center')\n",
        "plt.yticks(range(len(ind)), [features_names[i] for i in ind])\n",
        "plt.xlabel('Relative Importance')"
      ]
    },
    {
      "cell_type": "code",
      "execution_count": null,
      "metadata": {
        "id": "MJVU6Ij_2vB5",
        "colab": {
          "base_uri": "https://localhost:8080/"
        },
        "outputId": "fabe91ce-a571-4f31-89b2-d1c704705275"
      },
      "outputs": [
        {
          "output_type": "stream",
          "name": "stdout",
          "text": [
            "Index(['sex', 'age', 'famsize', 'Medu', 'Fedu', 'Mjob', 'Fjob', 'studytime',\n",
            "       'famrel', 'freetime', 'goout', 'health', 'absences', 'G3'],\n",
            "      dtype='object')\n"
          ]
        }
      ],
      "source": [
        "from sklearn.feature_selection import SelectFromModel\n",
        "sel = SelectFromModel(RandomForestClassifier(criterion='entropy', n_estimators=500, max_depth=10))\n",
        "sel.fit(X_alc_ovs, y_alc_ovs)\n",
        "selected_feat= X_alc_ovs.columns[(sel.get_support())]\n",
        "print(selected_feat)"
      ]
    },
    {
      "cell_type": "markdown",
      "source": [
        "# **Model**"
      ],
      "metadata": {
        "id": "Km08iR7po_EM"
      }
    },
    {
      "cell_type": "code",
      "execution_count": null,
      "metadata": {
        "id": "HAAi74nE2zlC",
        "colab": {
          "base_uri": "https://localhost:8080/"
        },
        "outputId": "c68b6da1-2f41-4682-a327-521da7d05999"
      },
      "outputs": [
        {
          "output_type": "stream",
          "name": "stdout",
          "text": [
            "[ 6  6  6  7  2  4 10  8  7  9  5  4  6  6 10  3  4  8  4  5 10  4  5  4\n",
            "  7  6  7  6  2  8  6  4  7  6  7  9 10  3  8  7  7  4  6  7  8  7 10  8\n",
            " 10  7  8  7  6  9 10  7  5  5  7  2  3  2  4 10  5 10  2  4  9  7  6  3\n",
            "  7 10  9  2  9  7  6 10  5  3  2  7 10  9  4  3  3  2  8  2 10  5  4  4\n",
            " 10  7 10 10  5  7  2  8  2  9 10  3  3 10  6 10  8  7  8  4  9  7  7  4\n",
            "  5  7  7  9  4  6  4 10  5  5  3  8  2  5  8  7  9  7  7  6  4 10  6  8\n",
            "  8  9  4  8  7  7  4  5  6  8  9  3  9 10  2  5  9  3  3  6 10  5  7  4\n",
            "  7  3  8  7  3  8  9 10  3 10  3  6  2  6  8  9  5  3  8  3  9  6  6  4\n",
            " 10  7  8  7  4  6 10  8  9 10  9  7  8  3  5  8  5  5  5  5  6 10  5  7\n",
            "  8  5  2 10 10 10 10  2  2  6  3  9  6  7  7  6  2  8  6  6  4  2  6  3\n",
            "  9  9  6  7  4  7  6 10  4  9  4 10 10  9  9 10  9  5  9 10  7  4  4  6\n",
            " 10  4  6  4  6  9  4  8  3 10  8  3  8  7  4  7 10  5  6  9 10 10  6  8\n",
            "  9  3  3  7  8  3  5  6 10  2  7  5  9  5  4  7  4  3  3  4  9  8  5 10\n",
            "  5  8  6  7  7 10  8  9  5  8  3  4  6  2  2  5  7  3  3 10  6  8  4 10\n",
            "  5  2  7  8  2  2  9  4  4  3  6  9  8  3  2  5  6  9  9  4  7  2  6  9\n",
            "  7  2  8  6 10  3  7  9  9  9 10  9  2  7  4  3  7  4  8  5  9  2  9  5\n",
            "  2  7  8  8  6 10  8  2  3  9  4  5  4  5  7  2  9  2  3 10  7  2  9  9\n",
            "  8  4  6  3  2  3  9  3  6  2  8 10  2  2  9  6 10  3  9 10  5 10  5  6\n",
            "  5  5  8  7  8  3  4  7  6  7  4  4  4  4  9  7  8  6  8 10 10  4  4  5\n",
            "  2  7  6  6  8 10  4  6  6  6  7  8  9  6  7  7  5  4  2  9  2  9  9  8\n",
            "  7  6  3  8  7 10  9  5 10  3  8  9  3  5  2 10  5  3  2  7  7  7  9  7\n",
            " 10  6  8  2  8  9 10  5  8  7  8  6  6  2 10  9  7  9  5  9  3  5  3  6\n",
            "  4  9  4 10  8  2  3  5  9  7  7 10  3  2  7  3  4  5  5  6  4  8  7  5\n",
            "  9  8  8  4  7 10 10  6  7  8 10  4  2  4  6  5  9 10  6  8  2  5  5  6\n",
            "  8  4  5  7  5 10 10  7  4  4  3  7  3  2 10  7  8  2  5  8  8  9  9  6\n",
            " 10  7  8  6 10 10  6  9 10 10  9  9 10  2  4  3  4  9  8  9  3 10  8  5\n",
            "  9  9  2  3  4 10  8  9  6  3  4  6  7  9  8  2 10 10  4  6  2  7  5  7\n",
            "  7  8  6  8  3  7  4  5  7  7  4  7  2  6  3  4  6  9  3  7  4  5  2  8\n",
            "  2  5  8  7  8  2  7  2  6  4  7  4  3  3  7  6  3  2  5 10  2 10  7  6\n",
            "  3  2 10  3  6  8  9  9]\n",
            "[[50  6  3  1  3  4  2  0  3]\n",
            " [ 4 56  2  2  2  1  1  0  0]\n",
            " [ 8  1 67  2  1  0  1  0  1]\n",
            " [ 2  2  4 60  0  2  0  1  0]\n",
            " [ 0  1  0  0 76  0  0  0  1]\n",
            " [ 0  0  0  2  0 93  0  0  0]\n",
            " [ 0  0  0  0  0  0 76  0  0]\n",
            " [ 0  0  0  0  0  0  0 81  0]\n",
            " [ 0  0  0  0  0  0  0  0 82]]\n",
            "              precision    recall  f1-score   support\n",
            "\n",
            "           2       0.78      0.69      0.74        72\n",
            "           3       0.85      0.82      0.84        68\n",
            "           4       0.88      0.83      0.85        81\n",
            "           5       0.90      0.85      0.87        71\n",
            "           6       0.93      0.97      0.95        78\n",
            "           7       0.93      0.98      0.95        95\n",
            "           8       0.95      1.00      0.97        76\n",
            "           9       0.99      1.00      0.99        81\n",
            "          10       0.94      1.00      0.97        82\n",
            "\n",
            "    accuracy                           0.91       704\n",
            "   macro avg       0.90      0.90      0.90       704\n",
            "weighted avg       0.91      0.91      0.91       704\n",
            "\n"
          ]
        }
      ],
      "source": [
        "X_alc_ovs_select = X_alc_ovs[['sex', 'age', 'famsize', 'Medu', 'Fedu', 'Mjob', 'Fjob', 'studytime',\n",
        "       'famrel', 'freetime', 'goout', 'health', 'absences', 'G3']]\n",
        "\n",
        "# One hot encoding\n",
        "fjob = pd.get_dummies(X_alc_ovs_select['Fjob'], prefix = 'fjob')\n",
        "mjob = pd.get_dummies(X_alc_ovs_select['Mjob'], prefix = 'mjob')\n",
        "X_alc_ovs_select = pd.concat([X_alc_ovs_select, fjob, mjob], axis = 1)\n",
        "X_alc_ovs_select = X_alc_ovs_select.drop(columns=['Fjob', 'Mjob'])\n",
        "\n",
        "# Trainning\n",
        "X_train, X_test, y_train, y_test = train_test_split(X_alc_ovs, y_alc_ovs, test_size=0.2)\n",
        "Alc_Ranforest = RandomForestClassifier(criterion='entropy', n_estimators=500, max_depth=10)\n",
        "Alc_Ranforest.fit(X_train, y_train)\n",
        "Alc_predict = Alc_Ranforest.predict(X_test)\n",
        "print(Alc_predict)\n",
        "print(confusion_matrix(y_test, Alc_predict))\n",
        "print(classification_report(y_test, Alc_predict))"
      ]
    },
    {
      "cell_type": "code",
      "execution_count": null,
      "metadata": {
        "id": "Rz_6hYyG232M"
      },
      "outputs": [],
      "source": [
        "#from sklearn.model_selection import GridSearchCV\n",
        "#param_grid = { \n",
        "    #'n_estimators': [200, 500],\n",
        "    #'max_features': ['auto', 'sqrt', 'log2'],\n",
        "    #'max_depth' : [3,4,5,6,7,8,9,10],\n",
        "    #'criterion' :['gini', 'entropy']\n",
        "#}\n",
        "#rfc=RandomForestClassifier()\n",
        "#CV_rfc = GridSearchCV(estimator=rfc, param_grid=param_grid, cv= 5)\n",
        "#CV_rfc.fit(X_train, y_train)\n",
        "#CV_rfc.best_params_"
      ]
    },
    {
      "cell_type": "code",
      "execution_count": null,
      "metadata": {
        "id": "AAKYIuQ324vf",
        "colab": {
          "base_uri": "https://localhost:8080/"
        },
        "outputId": "05dbc89f-390d-45be-afaa-8dfbc19b47fa"
      },
      "outputs": [
        {
          "output_type": "stream",
          "name": "stdout",
          "text": [
            "[[55  7 10  4  2  2  1  2  0]\n",
            " [ 8 62  5  1  1  1  1  0  0]\n",
            " [ 1  8 49  4  1  1  1  1  2]\n",
            " [ 1  4  5 64  1  2  0  1  4]\n",
            " [ 2  3  0  1 61  2  2  0  0]\n",
            " [ 0  2  0  3  0 74  0  0  0]\n",
            " [ 0  1  0  1  0  0 88  0  0]\n",
            " [ 0  0  0  0  0  0  0 71  0]\n",
            " [ 0  0  0  0  0  0  1  0 80]]\n",
            "              precision    recall  f1-score   support\n",
            "\n",
            "           2       0.82      0.66      0.73        83\n",
            "           3       0.71      0.78      0.75        79\n",
            "           4       0.71      0.72      0.72        68\n",
            "           5       0.82      0.78      0.80        82\n",
            "           6       0.92      0.86      0.89        71\n",
            "           7       0.90      0.94      0.92        79\n",
            "           8       0.94      0.98      0.96        90\n",
            "           9       0.95      1.00      0.97        71\n",
            "          10       0.93      0.99      0.96        81\n",
            "\n",
            "    accuracy                           0.86       704\n",
            "   macro avg       0.86      0.86      0.85       704\n",
            "weighted avg       0.86      0.86      0.86       704\n",
            "\n"
          ]
        }
      ],
      "source": [
        "X_train, X_test, y_train, y_test = train_test_split(X_alc_ovs_select, y_alc_ovs, test_size=0.2)\n",
        "Alc_Ranforest = RandomForestClassifier(criterion='entropy', n_estimators=200, max_depth=10, max_features= 'log2')\n",
        "Alc_Ranforest.fit(X_train, y_train)\n",
        "Alc_predict = Alc_Ranforest.predict(X_test)\n",
        "print(confusion_matrix(y_test, Alc_predict))\n",
        "print(classification_report(y_test, Alc_predict))"
      ]
    },
    {
      "cell_type": "code",
      "execution_count": null,
      "metadata": {
        "id": "ViKf7b6iNEbN",
        "colab": {
          "base_uri": "https://localhost:8080/"
        },
        "outputId": "8aa160a8-35ff-40f9-ca04-d0dccbbf341a"
      },
      "outputs": [
        {
          "output_type": "stream",
          "name": "stdout",
          "text": [
            "[ 5  8  8  8  3  5  8  5  3 10  7  4  2  3  5  7  6  8  2  2  8  3  2  6\n",
            "  5 10  5  2  9  3  3  4  6  6  7  5  9  8 10  7  2  8  5  2  7  2  4  2\n",
            "  3  9  2 10 10 10 10  5 10  7  3  3  9  8 10  6  9  3 10  6  2  5  5 10\n",
            "  9 10  2  3  6  8  2  5  8  5  3  4 10  9  9  7  2  3  4  9  6  5  4  4\n",
            "  2  6  2  6  9  7  3  7 10  7  9  6  7  7  3  7  2  5  3  9  9  5  7  6\n",
            "  7  5  8  5  5  5  3  8  9  4  7 10  5  9  5 10  3  5  3  5  4  9  9  8\n",
            " 10  7  7  4  5  6  5  8  9 10  4  3  7  3  7  5  3 10  8  8  3  9 10  4\n",
            " 10  7  6  2  2  8 10  9  2  7 10  9  6  4  5  2 10 10 10  4  8  2  9  8\n",
            "  4  6  5  4  8  6  7  3  7  8  4  5  5  9  6  9  5  9  6  5 10  8  2  9\n",
            " 10  8  3  9  8  9  2  4  8  5  5  7  8  8  8  5  9  2  3  4  7  2  2  9\n",
            "  5  7  7  8  9  9  9  9  2 10  6  2  3  7  9  8  5  3  7  6  2  3  5 10\n",
            "  2  2  2 10 10 10  7  8  5  3  9  2  7  2  7 10  2  9  8  8  2  2  6  9\n",
            "  5  6  5  7  8  7  9  7 10  8  7  4  5  9  2  9  2  8  9  7  2  3  9  2\n",
            "  8  2 10 10  5 10  8  5 10  9  9  9  8  4 10  7  3  6 10 10 10  5  7  8\n",
            "  9  5  7  5  8  2  8  8  8 10  9  4  7  3  9  6  5  7  5  7  2  2  3  5\n",
            "  8  6  5  6  2 10  2 10  9  7  3  2  9  7  6  4  8  9  5  8  8 10  5  7\n",
            "  7  2 10  5  4  7  9  5 10  3  3  9  8  9 10  8  6  2  4  7  8  5  8  9\n",
            "  3  2  4  4 10  2  9 10  4  2 10  4 10  9 10  5  8  5  8  6  7 10  6 10\n",
            "  8  8  7 10  3  2 10  6  7  8  9  7  4  3 10  2  3  5  6  3  6  5  9  2\n",
            "  8  3 10  9  8  7  7  9  8  5  8  2  6  5  8  3  8  8  7  6  9  3 10  3\n",
            "  8  5 10  4  5  5  6  3  4  5  8  3 10 10  3  8  5 10  3  3 10 10  5  9\n",
            "  5  7  5  8  3  8  2  8 10  3  9  3  6  2  6  9  7  4  9  8  3  7  6  9\n",
            "  8  7  8  8  2  7  2  9  9  2 10  6 10  3 10  6  6  8  4  8  2  5  9  2\n",
            "  9  7  5  6  6  8  7  7 10  9  9  9  9  7  4  4  5  5  3  6  5  9 10  2\n",
            "  9  7  8  3  7  4  8  8  7  6  9  4  4  9 10  7  8  3  2  5  9  3  9  2\n",
            "  8  9 10  2  3  8  5  4  8  2  5 10  5  8 10  9  9  3  9  5  5  5  5  4\n",
            " 10 10 10 10  8  9  2  4  5  8  4  3  2  2  3 10  3 10  3  5 10  2  6  9\n",
            "  9 10  3  5  6  4  4  8  4  2  9 10  8  3  8  2  3 10  8 10  3  9  5  4\n",
            " 10  2  5  8  8  4  8  8  2 10  7  9  4  7  9  2  4  2  9  2  7 10  5  5\n",
            "  7 10  7  5  6  5  9  2]\n",
            "[[33 15  9  7  6  6  4  1  2]\n",
            " [18 22  9  9 10  7  1  0  2]\n",
            " [16 12  7 15  5 12  2  4  0]\n",
            " [ 6  9 13 27  3  3  4  2  9]\n",
            " [ 2  6  2  7 15  2 19  7 10]\n",
            " [ 5  6  5 14  6 23  8  3 11]\n",
            " [ 0  0  0  7  2  3 51  2  8]\n",
            " [ 0  0  0  0  0 14  3 73  0]\n",
            " [ 2  0  5  7  3  5  4  3 51]]\n",
            "              precision    recall  f1-score   support\n",
            "\n",
            "           2       0.40      0.40      0.40        83\n",
            "           3       0.31      0.28      0.30        78\n",
            "           4       0.14      0.10      0.11        73\n",
            "           5       0.29      0.36      0.32        76\n",
            "           6       0.30      0.21      0.25        70\n",
            "           7       0.31      0.28      0.29        81\n",
            "           8       0.53      0.70      0.60        73\n",
            "           9       0.77      0.81      0.79        90\n",
            "          10       0.55      0.64      0.59        80\n",
            "\n",
            "    accuracy                           0.43       704\n",
            "   macro avg       0.40      0.42      0.41       704\n",
            "weighted avg       0.41      0.43      0.42       704\n",
            "\n"
          ]
        },
        {
          "output_type": "stream",
          "name": "stderr",
          "text": [
            "/usr/local/lib/python3.7/dist-packages/sklearn/linear_model/_logistic.py:818: ConvergenceWarning: lbfgs failed to converge (status=1):\n",
            "STOP: TOTAL NO. of ITERATIONS REACHED LIMIT.\n",
            "\n",
            "Increase the number of iterations (max_iter) or scale the data as shown in:\n",
            "    https://scikit-learn.org/stable/modules/preprocessing.html\n",
            "Please also refer to the documentation for alternative solver options:\n",
            "    https://scikit-learn.org/stable/modules/linear_model.html#logistic-regression\n",
            "  extra_warning_msg=_LOGISTIC_SOLVER_CONVERGENCE_MSG,\n"
          ]
        }
      ],
      "source": [
        "# StandardScaler\n",
        "# scaling\n",
        "scaler = StandardScaler()\n",
        "num_cols = ['absences', 'G3']\n",
        "scaler.fit(X_alc_ovs_select[num_cols])\n",
        "X_log = X_alc_ovs_select\n",
        "X_log[num_cols] = scaler.transform(X_alc_ovs_select[num_cols])\n",
        "\n",
        "# Split\n",
        "X_train, X_test, y_train, y_test = train_test_split(X_log, y_alc_ovs, test_size=0.2)\n",
        "\n",
        "# Logistic Regression\n",
        "alc_log = LogisticRegression()\n",
        "alc_log.fit(X_train, y_train)\n",
        "y_pred = alc_log.predict(X_test)\n",
        "print(y_pred)\n",
        "\n",
        "# classification report\n",
        "print(confusion_matrix(y_test, y_pred))\n",
        "print(classification_report(y_test, y_pred))"
      ]
    },
    {
      "cell_type": "code",
      "execution_count": null,
      "metadata": {
        "id": "zYrV4bwrsWZF"
      },
      "outputs": [],
      "source": [
        "#from sklearn.svm import SVC\n",
        "#X_train, X_test, y_train, y_test = train_test_split(X_alc_ovs, y_alc_ovs, test_size=0.2)\n",
        "#param_grid = {'C': [0.1, 1, 10],\n",
        "              #'gamma': [1, 0.1, 0.01],\n",
        "              #'kernel': ['linear', 'poly', 'rbf']}\n",
        " \n",
        "#CV_SVM = GridSearchCV(estimator=SVC(), param_grid=param_grid, cv= 5)\n",
        "#CV_SVM.fit(X_train, y_train)\n",
        "#print(CV_SVM.best_estimator_)"
      ]
    },
    {
      "cell_type": "code",
      "execution_count": null,
      "metadata": {
        "id": "cROSBkhmtVX-",
        "colab": {
          "base_uri": "https://localhost:8080/"
        },
        "outputId": "f46966d9-622f-48c5-e222-618979003ade"
      },
      "outputs": [
        {
          "output_type": "stream",
          "name": "stdout",
          "text": [
            "[[56  8  3  2  1  1  0  0  0]\n",
            " [13 70  1  1  0  0  0  0  0]\n",
            " [ 7  1 63  0  0  0  0  0  0]\n",
            " [ 4  2  0 75  0  0  0  0  0]\n",
            " [ 4  0  1  0 78  0  0  0  0]\n",
            " [ 1  0  1  0  0 65  0  0  0]\n",
            " [ 0  0  1  0  0  0 81  0  0]\n",
            " [ 0  0  0  0  0  0  0 87  0]\n",
            " [ 1  0  0  0  0  0  0  0 76]]\n",
            "              precision    recall  f1-score   support\n",
            "\n",
            "           2       0.65      0.79      0.71        71\n",
            "           3       0.86      0.82      0.84        85\n",
            "           4       0.90      0.89      0.89        71\n",
            "           5       0.96      0.93      0.94        81\n",
            "           6       0.99      0.94      0.96        83\n",
            "           7       0.98      0.97      0.98        67\n",
            "           8       1.00      0.99      0.99        82\n",
            "           9       1.00      1.00      1.00        87\n",
            "          10       1.00      0.99      0.99        77\n",
            "\n",
            "    accuracy                           0.92       704\n",
            "   macro avg       0.93      0.92      0.92       704\n",
            "weighted avg       0.93      0.92      0.93       704\n",
            "\n"
          ]
        }
      ],
      "source": [
        "X_train, X_test, y_train, y_test = train_test_split(X_alc_ovs, y_alc_ovs, test_size=0.2)\n",
        "\n",
        "Alc_SVM = SVC(C=10, gamma=0.1)\n",
        "Alc_SVM.fit(X_train, y_train)\n",
        "Alc_predict = Alc_SVM.predict(X_test)\n",
        "print(confusion_matrix(y_test, Alc_predict))\n",
        "print(classification_report(y_test, Alc_predict))"
      ]
    },
    {
      "cell_type": "code",
      "execution_count": null,
      "metadata": {
        "id": "m6wKudGkgh3L",
        "colab": {
          "base_uri": "https://localhost:8080/"
        },
        "outputId": "36dae40d-c368-4479-f19a-50927f57645c"
      },
      "outputs": [
        {
          "output_type": "stream",
          "name": "stdout",
          "text": [
            "[[56  6 11  1  1  2  0  0  0]\n",
            " [11 66  5  1  2  0  0  0  0]\n",
            " [ 3  3 63  0  3  1  0  0  1]\n",
            " [ 1  1  4 66  2  2  0  0  0]\n",
            " [ 0  3  0  2 77  0  3  0  1]\n",
            " [ 1  0  0  1  0 93  0  0  0]\n",
            " [ 0  0  2  0  1  2 66  0  0]\n",
            " [ 1  0  0  0  0  0  0 69  0]\n",
            " [ 0  0  0  0  0  0  0  0 70]]\n",
            "              precision    recall  f1-score   support\n",
            "\n",
            "           2       0.77      0.73      0.75        77\n",
            "           3       0.84      0.78      0.80        85\n",
            "           4       0.74      0.85      0.79        74\n",
            "           5       0.93      0.87      0.90        76\n",
            "           6       0.90      0.90      0.90        86\n",
            "           7       0.93      0.98      0.95        95\n",
            "           8       0.96      0.93      0.94        71\n",
            "           9       1.00      0.99      0.99        70\n",
            "          10       0.97      1.00      0.99        70\n",
            "\n",
            "    accuracy                           0.89       704\n",
            "   macro avg       0.89      0.89      0.89       704\n",
            "weighted avg       0.89      0.89      0.89       704\n",
            "\n"
          ]
        }
      ],
      "source": [
        "X_train, X_test, y_train, y_test = train_test_split(X_alc_ovs_select, y_alc_ovs, test_size=0.2)\n",
        "\n",
        "Alc_SVM = SVC(C=10, gamma=0.1)\n",
        "Alc_SVM.fit(X_train, y_train)\n",
        "Alc_predict = Alc_SVM.predict(X_test)\n",
        "print(confusion_matrix(y_test, Alc_predict))\n",
        "print(classification_report(y_test, Alc_predict))"
      ]
    },
    {
      "cell_type": "code",
      "source": [
        "import sys\n",
        "!{sys.executable} -m pip install shap delayed"
      ],
      "metadata": {
        "colab": {
          "base_uri": "https://localhost:8080/"
        },
        "id": "mHgnmEoyUzXH",
        "outputId": "9889cd87-47ce-4b16-e3aa-fe0dfc20798d"
      },
      "execution_count": null,
      "outputs": [
        {
          "output_type": "stream",
          "name": "stdout",
          "text": [
            "Looking in indexes: https://pypi.org/simple, https://us-python.pkg.dev/colab-wheels/public/simple/\n",
            "Collecting shap\n",
            "  Downloading shap-0.40.0-cp37-cp37m-manylinux2010_x86_64.whl (564 kB)\n",
            "\u001b[K     |████████████████████████████████| 564 kB 4.1 MB/s \n",
            "\u001b[?25hRequirement already satisfied: delayed in /usr/local/lib/python3.7/dist-packages (0.11.0b1)\n",
            "Requirement already satisfied: numpy in /usr/local/lib/python3.7/dist-packages (from shap) (1.21.6)\n",
            "Requirement already satisfied: numba in /usr/local/lib/python3.7/dist-packages (from shap) (0.51.2)\n",
            "Requirement already satisfied: cloudpickle in /usr/local/lib/python3.7/dist-packages (from shap) (1.3.0)\n",
            "Requirement already satisfied: scipy in /usr/local/lib/python3.7/dist-packages (from shap) (1.4.1)\n",
            "Requirement already satisfied: tqdm>4.25.0 in /usr/local/lib/python3.7/dist-packages (from shap) (4.64.0)\n",
            "Requirement already satisfied: pandas in /usr/local/lib/python3.7/dist-packages (from shap) (1.3.5)\n",
            "Requirement already satisfied: packaging>20.9 in /usr/local/lib/python3.7/dist-packages (from shap) (21.3)\n",
            "Requirement already satisfied: scikit-learn in /usr/local/lib/python3.7/dist-packages (from shap) (1.0.2)\n",
            "Collecting slicer==0.0.7\n",
            "  Downloading slicer-0.0.7-py3-none-any.whl (14 kB)\n",
            "Requirement already satisfied: pyparsing!=3.0.5,>=2.0.2 in /usr/local/lib/python3.7/dist-packages (from packaging>20.9->shap) (3.0.9)\n",
            "Requirement already satisfied: hiredis in /usr/local/lib/python3.7/dist-packages (from delayed) (2.0.0)\n",
            "Requirement already satisfied: redis in /usr/local/lib/python3.7/dist-packages (from delayed) (4.3.3)\n",
            "Requirement already satisfied: llvmlite<0.35,>=0.34.0.dev0 in /usr/local/lib/python3.7/dist-packages (from numba->shap) (0.34.0)\n",
            "Requirement already satisfied: setuptools in /usr/local/lib/python3.7/dist-packages (from numba->shap) (57.4.0)\n",
            "Requirement already satisfied: pytz>=2017.3 in /usr/local/lib/python3.7/dist-packages (from pandas->shap) (2022.1)\n",
            "Requirement already satisfied: python-dateutil>=2.7.3 in /usr/local/lib/python3.7/dist-packages (from pandas->shap) (2.8.2)\n",
            "Requirement already satisfied: six>=1.5 in /usr/local/lib/python3.7/dist-packages (from python-dateutil>=2.7.3->pandas->shap) (1.15.0)\n",
            "Requirement already satisfied: async-timeout>=4.0.2 in /usr/local/lib/python3.7/dist-packages (from redis->delayed) (4.0.2)\n",
            "Requirement already satisfied: importlib-metadata>=1.0 in /usr/local/lib/python3.7/dist-packages (from redis->delayed) (4.11.4)\n",
            "Requirement already satisfied: deprecated>=1.2.3 in /usr/local/lib/python3.7/dist-packages (from redis->delayed) (1.2.13)\n",
            "Requirement already satisfied: typing-extensions in /usr/local/lib/python3.7/dist-packages (from redis->delayed) (4.2.0)\n",
            "Requirement already satisfied: wrapt<2,>=1.10 in /usr/local/lib/python3.7/dist-packages (from deprecated>=1.2.3->redis->delayed) (1.14.1)\n",
            "Requirement already satisfied: zipp>=0.5 in /usr/local/lib/python3.7/dist-packages (from importlib-metadata>=1.0->redis->delayed) (3.8.0)\n",
            "Requirement already satisfied: threadpoolctl>=2.0.0 in /usr/local/lib/python3.7/dist-packages (from scikit-learn->shap) (3.1.0)\n",
            "Requirement already satisfied: joblib>=0.11 in /usr/local/lib/python3.7/dist-packages (from scikit-learn->shap) (1.1.0)\n",
            "Installing collected packages: slicer, shap\n",
            "Successfully installed shap-0.40.0 slicer-0.0.7\n"
          ]
        }
      ]
    },
    {
      "cell_type": "code",
      "source": [
        "pip install shap"
      ],
      "metadata": {
        "colab": {
          "base_uri": "https://localhost:8080/"
        },
        "id": "Xs8QRwHm9Gg2",
        "outputId": "e49af7ab-ba79-4e0e-b09d-fc1e9caf2e66"
      },
      "execution_count": null,
      "outputs": [
        {
          "output_type": "stream",
          "name": "stdout",
          "text": [
            "Looking in indexes: https://pypi.org/simple, https://us-python.pkg.dev/colab-wheels/public/simple/\n",
            "Collecting shap\n",
            "  Downloading shap-0.40.0-cp37-cp37m-manylinux2010_x86_64.whl (564 kB)\n",
            "\u001b[K     |████████████████████████████████| 564 kB 5.3 MB/s \n",
            "\u001b[?25hCollecting slicer==0.0.7\n",
            "  Downloading slicer-0.0.7-py3-none-any.whl (14 kB)\n",
            "Requirement already satisfied: packaging>20.9 in /usr/local/lib/python3.7/dist-packages (from shap) (21.3)\n",
            "Requirement already satisfied: scikit-learn in /usr/local/lib/python3.7/dist-packages (from shap) (1.0.2)\n",
            "Requirement already satisfied: tqdm>4.25.0 in /usr/local/lib/python3.7/dist-packages (from shap) (4.64.0)\n",
            "Requirement already satisfied: numba in /usr/local/lib/python3.7/dist-packages (from shap) (0.51.2)\n",
            "Requirement already satisfied: scipy in /usr/local/lib/python3.7/dist-packages (from shap) (1.4.1)\n",
            "Requirement already satisfied: numpy in /usr/local/lib/python3.7/dist-packages (from shap) (1.21.6)\n",
            "Requirement already satisfied: pandas in /usr/local/lib/python3.7/dist-packages (from shap) (1.3.5)\n",
            "Requirement already satisfied: cloudpickle in /usr/local/lib/python3.7/dist-packages (from shap) (1.3.0)\n",
            "Requirement already satisfied: pyparsing!=3.0.5,>=2.0.2 in /usr/local/lib/python3.7/dist-packages (from packaging>20.9->shap) (3.0.9)\n",
            "Requirement already satisfied: llvmlite<0.35,>=0.34.0.dev0 in /usr/local/lib/python3.7/dist-packages (from numba->shap) (0.34.0)\n",
            "Requirement already satisfied: setuptools in /usr/local/lib/python3.7/dist-packages (from numba->shap) (57.4.0)\n",
            "Requirement already satisfied: pytz>=2017.3 in /usr/local/lib/python3.7/dist-packages (from pandas->shap) (2022.1)\n",
            "Requirement already satisfied: python-dateutil>=2.7.3 in /usr/local/lib/python3.7/dist-packages (from pandas->shap) (2.8.2)\n",
            "Requirement already satisfied: six>=1.5 in /usr/local/lib/python3.7/dist-packages (from python-dateutil>=2.7.3->pandas->shap) (1.15.0)\n",
            "Requirement already satisfied: threadpoolctl>=2.0.0 in /usr/local/lib/python3.7/dist-packages (from scikit-learn->shap) (3.1.0)\n",
            "Requirement already satisfied: joblib>=0.11 in /usr/local/lib/python3.7/dist-packages (from scikit-learn->shap) (1.1.0)\n",
            "Installing collected packages: slicer, shap\n",
            "Successfully installed shap-0.40.0 slicer-0.0.7\n"
          ]
        }
      ]
    },
    {
      "cell_type": "code",
      "source": [
        "from sklearn.ensemble import RandomForestRegressor\n",
        "X_train, X_test, y_train, y_test = train_test_split(X_alc_ovs_select, y_alc_ovs, test_size=0.2)\n",
        "Alc_Ranforest = RandomForestRegressor(n_estimators = 500, max_depth=100, max_features= 'auto')\n",
        "Alc_Ranforest.fit(X_train, y_train)\n",
        "Alc_predict = Alc_Ranforest.predict(X_test)\n",
        "print(confusion_matrix(y_test, np.rint(Alc_predict)))\n",
        "print(classification_report(y_test, np.rint(Alc_predict)))\n",
        "\n",
        "import shap\n",
        "shap_values = shap.TreeExplainer(Alc_Ranforest).shap_values(X_test)\n",
        "shap.summary_plot(shap_values, X_test)"
      ],
      "metadata": {
        "colab": {
          "base_uri": "https://localhost:8080/",
          "height": 1000
        },
        "id": "f2d8hehyTmb3",
        "outputId": "9bb043f6-65bb-4337-ead8-47d747beecb0"
      },
      "execution_count": null,
      "outputs": [
        {
          "output_type": "stream",
          "name": "stdout",
          "text": [
            "[[ 9 35 11  7  1  0  1  0  0]\n",
            " [ 1 35 26  5  4  1  0  0  0]\n",
            " [ 0  6 55 10  2  0  0  1  0]\n",
            " [ 0  4 17 50  8  0  0  0  0]\n",
            " [ 0  0  2 19 56  6  0  0  0]\n",
            " [ 0  1  2  6 21 52  0  0  0]\n",
            " [ 0  0  0  1  3  9 64  1  0]\n",
            " [ 0  0  0  1  0  3  3 82  0]\n",
            " [ 0  0  0  0  0  2  6 11 64]]\n",
            "              precision    recall  f1-score   support\n",
            "\n",
            "           2       0.90      0.14      0.24        64\n",
            "           3       0.43      0.49      0.46        72\n",
            "           4       0.49      0.74      0.59        74\n",
            "           5       0.51      0.63      0.56        79\n",
            "           6       0.59      0.67      0.63        83\n",
            "           7       0.71      0.63      0.67        82\n",
            "           8       0.86      0.82      0.84        78\n",
            "           9       0.86      0.92      0.89        89\n",
            "          10       1.00      0.77      0.87        83\n",
            "\n",
            "    accuracy                           0.66       704\n",
            "   macro avg       0.71      0.65      0.64       704\n",
            "weighted avg       0.71      0.66      0.65       704\n",
            "\n"
          ]
        },
        {
          "output_type": "display_data",
          "data": {
            "text/plain": [
              "<Figure size 576x684 with 2 Axes>"
            ],
            "image/png": "[encoded data removed]"
          },
          "metadata": {
            "needs_background": "light"
          }
        }
      ]
    },
    {
      "cell_type": "code",
      "source": [
        "import seaborn as sns\n",
        "df4 = df_combine[['sex', 'age', 'famsize', 'Medu', 'Fedu', 'Mjob', 'Fjob', 'studytime',\n",
        "       'famrel', 'freetime', 'goout', 'health', 'absences', 'G3', 'Alc']]\n",
        "#sns.pairplot(df4, hue = 'Alc')\n"
      ],
      "metadata": {
        "id": "-4mMLDIx2q1t"
      },
      "execution_count": null,
      "outputs": []
    },
    {
      "cell_type": "code",
      "source": [
        "import matplotlib.pyplot as plt\n",
        "y1 = np.array(df3['Alc'].value_counts())\n",
        "labels = [\"2\", \"3\", \"4\", \"5\", \"6\", \"7\", \"8\", \"10\",\"9\"]\n",
        "plt.pie(y1, labels = labels)\n",
        "plt.show() "
      ],
      "metadata": {
        "colab": {
          "base_uri": "https://localhost:8080/",
          "height": 248
        },
        "id": "pPHacAXK72Dk",
        "outputId": "94e065a4-991a-4718-bf40-7e08d3250e2e"
      },
      "execution_count": null,
      "outputs": [
        {
          "output_type": "display_data",
          "data": {
            "text/plain": [
              "<Figure size 432x288 with 1 Axes>"
            ],
            "image/png": "[encoded data removed]"
          },
          "metadata": {}
        }
      ]
    },
    {
      "cell_type": "code",
      "source": [
        "import matplotlib.pyplot as plt\n",
        "y1 = np.array(y_alc_ovs.value_counts())\n",
        "labels = [\"2\", \"3\", \"4\", \"5\", \"6\", \"7\", \"8\", \"9\",\"10\"]\n",
        "plt.pie(y1, labels = labels)\n",
        "plt.show() \n"
      ],
      "metadata": {
        "id": "_EowhWQNBlrt",
        "colab": {
          "base_uri": "https://localhost:8080/",
          "height": 248
        },
        "outputId": "cdee63ba-df72-46e2-b25f-bfa1832fe4de"
      },
      "execution_count": null,
      "outputs": [
        {
          "output_type": "display_data",
          "data": {
            "text/plain": [
              "<Figure size 432x288 with 1 Axes>"
            ],
            "image/png": "[encoded data removed]"
          },
          "metadata": {}
        }
      ]
    },
    {
      "cell_type": "code",
      "source": [
        "X_train, X_test, y_train, y_test = train_test_split(X_alc_ovs, y_alc_ovs, test_size=0.2)\n",
        "from sklearn.neighbors import KNeighborsClassifier\n",
        "Alc_KNN = KNeighborsClassifier(n_neighbors = 2)\n",
        "Alc_KNN.fit(X_train, y_train)\n",
        "Alc_predict = Alc_KNN.predict(X_test)\n",
        "print(confusion_matrix(y_test, Alc_predict))\n",
        "print(classification_report(y_test, Alc_predict))"
      ],
      "metadata": {
        "colab": {
          "base_uri": "https://localhost:8080/"
        },
        "id": "65LRoGApGJ7J",
        "outputId": "cdc9d4ac-27fb-48a9-976a-6090cdd139c3"
      },
      "execution_count": null,
      "outputs": [
        {
          "output_type": "stream",
          "name": "stdout",
          "text": [
            "[[46 16  6  3  7  1  0  0  0]\n",
            " [ 7 55  2  2  1  1  0  2  0]\n",
            " [ 8  6 66  1  0  1  0  1  0]\n",
            " [ 2  3  1 62  0  0  0  0  0]\n",
            " [ 0  0  0  0 65  0  0  0  0]\n",
            " [ 0  0  0  0  0 84  0  1  0]\n",
            " [ 0  0  0  0  0  2 85  0  0]\n",
            " [ 0  0  0  0  0  0  0 82  0]\n",
            " [ 0  0  1  0  0  0  0  0 84]]\n",
            "              precision    recall  f1-score   support\n",
            "\n",
            "           2       0.73      0.58      0.65        79\n",
            "           3       0.69      0.79      0.73        70\n",
            "           4       0.87      0.80      0.83        83\n",
            "           5       0.91      0.91      0.91        68\n",
            "           6       0.89      1.00      0.94        65\n",
            "           7       0.94      0.99      0.97        85\n",
            "           8       1.00      0.98      0.99        87\n",
            "           9       0.95      1.00      0.98        82\n",
            "          10       1.00      0.99      0.99        85\n",
            "\n",
            "    accuracy                           0.89       704\n",
            "   macro avg       0.89      0.89      0.89       704\n",
            "weighted avg       0.89      0.89      0.89       704\n",
            "\n"
          ]
        }
      ]
    },
    {
      "cell_type": "code",
      "source": [
        "X_train, X_test, y_train, y_test = train_test_split(X_alc_ovs_select, y_alc_ovs, test_size=0.2)\n",
        "from sklearn.neighbors import KNeighborsClassifier\n",
        "Alc_KNN = KNeighborsClassifier(n_neighbors=2)\n",
        "Alc_KNN.fit(X_train, y_train)\n",
        "Alc_predict = Alc_KNN.predict(X_test)\n",
        "print(confusion_matrix(y_test, Alc_predict))\n",
        "print(classification_report(y_test, Alc_predict))"
      ],
      "metadata": {
        "colab": {
          "base_uri": "https://localhost:8080/"
        },
        "id": "DJEnXKfZGLQ1",
        "outputId": "7ac40980-b2d6-44e8-b861-ae034bc7c82c"
      },
      "execution_count": null,
      "outputs": [
        {
          "output_type": "stream",
          "name": "stdout",
          "text": [
            "[[51  7  3  5  4  0  0  0  2]\n",
            " [ 9 67  1  1  0  1  0  0  0]\n",
            " [ 5  3 77  1  1  0  0  0  1]\n",
            " [ 3  4  7 57  1  1  0  1  0]\n",
            " [ 0  0  1  2 68  0  1  0  0]\n",
            " [ 2  1  5  0  1 71  0  1  0]\n",
            " [ 0  0  0  0  0  1 78  0  0]\n",
            " [ 0  0  0  0  0  0  0 84  0]\n",
            " [ 0  0  0  1  2  0  1  0 71]]\n",
            "              precision    recall  f1-score   support\n",
            "\n",
            "           2       0.73      0.71      0.72        72\n",
            "           3       0.82      0.85      0.83        79\n",
            "           4       0.82      0.88      0.85        88\n",
            "           5       0.85      0.77      0.81        74\n",
            "           6       0.88      0.94      0.91        72\n",
            "           7       0.96      0.88      0.92        81\n",
            "           8       0.97      0.99      0.98        79\n",
            "           9       0.98      1.00      0.99        84\n",
            "          10       0.96      0.95      0.95        75\n",
            "\n",
            "    accuracy                           0.89       704\n",
            "   macro avg       0.89      0.88      0.88       704\n",
            "weighted avg       0.89      0.89      0.89       704\n",
            "\n"
          ]
        }
      ]
    },
    {
      "cell_type": "code",
      "source": [
        "y_alc_ovs_dummies = pd.get_dummies(y_alc_ovs)\n",
        "X_train, X_test, y_train, y_test = train_test_split(X_alc_ovs_select, y_alc_ovs, test_size=0.2)\n",
        "from sklearn.neural_network import MLPClassifier\n",
        "Alc_MLP = MLPClassifier(hidden_layer_sizes=(20, 40, 25, 10),\n",
        "                       solver='adam', alpha=0.0001,learning_rate='constant', \n",
        "                      learning_rate_init=0.005)\n",
        "Alc_MLP.fit(X_train, y_train)\n",
        "Alc_predict = Alc_MLP.predict(X_test)\n",
        "print(classification_report(y_test, Alc_predict))"
      ],
      "metadata": {
        "colab": {
          "base_uri": "https://localhost:8080/"
        },
        "id": "5KuT8RDCHGc8",
        "outputId": "f6921928-923a-483b-867c-8b23e03bd0b0"
      },
      "execution_count": null,
      "outputs": [
        {
          "output_type": "stream",
          "name": "stdout",
          "text": [
            "              precision    recall  f1-score   support\n",
            "\n",
            "           2       0.50      0.53      0.52        92\n",
            "           3       0.38      0.29      0.33        86\n",
            "           4       0.51      0.52      0.52        71\n",
            "           5       0.65      0.65      0.65        78\n",
            "           6       0.76      0.80      0.78        82\n",
            "           7       0.73      0.84      0.78        55\n",
            "           8       0.94      0.93      0.93        85\n",
            "           9       0.96      0.96      0.96        82\n",
            "          10       0.95      0.95      0.95        73\n",
            "\n",
            "    accuracy                           0.71       704\n",
            "   macro avg       0.71      0.72      0.71       704\n",
            "weighted avg       0.70      0.71      0.71       704\n",
            "\n"
          ]
        }
      ]
    },
    {
      "cell_type": "code",
      "source": [
        "X_train, X_test, y_train, y_test = train_test_split(X_alc_ovs, y_alc_ovs, test_size=0.2)\n",
        "from sklearn.neural_network import MLPClassifier\n",
        "Alc_MLP = MLPClassifier(hidden_layer_sizes=(20, 40, 25, 10),\n",
        "                       solver='adam', alpha=0.0001,learning_rate='constant', \n",
        "                      learning_rate_init=0.005)\n",
        "Alc_MLP.fit(X_train, y_train)\n",
        "Alc_predict = Alc_MLP.predict(X_test)\n",
        "print(classification_report(y_test, Alc_predict))"
      ],
      "metadata": {
        "colab": {
          "base_uri": "https://localhost:8080/"
        },
        "id": "3Mx2KyqPPiVW",
        "outputId": "6e4968ea-a1e1-4485-ff75-a67a69b02548"
      },
      "execution_count": null,
      "outputs": [
        {
          "output_type": "stream",
          "name": "stdout",
          "text": [
            "              precision    recall  f1-score   support\n",
            "\n",
            "           2       0.50      0.32      0.39        79\n",
            "           3       0.48      0.55      0.52        76\n",
            "           4       0.55      0.49      0.52        85\n",
            "           5       0.61      0.59      0.60        94\n",
            "           6       0.71      0.78      0.74        87\n",
            "           7       0.68      0.92      0.78        60\n",
            "           8       0.90      0.89      0.89        71\n",
            "           9       1.00      0.95      0.97        79\n",
            "          10       0.86      0.92      0.89        73\n",
            "\n",
            "    accuracy                           0.70       704\n",
            "   macro avg       0.70      0.71      0.70       704\n",
            "weighted avg       0.69      0.70      0.69       704\n",
            "\n"
          ]
        }
      ]
    }
  ],
  "metadata": {
    "colab": {
      "collapsed_sections": [],
      "name": "ECS171_Alcohol_Consumption.ipynb",
      "provenance": []
    },
    "kernelspec": {
      "display_name": "Python 3",
      "name": "python3"
    },
    "language_info": {
      "name": "python"
    }
  },
  "nbformat": 4,
  "nbformat_minor": 0
}